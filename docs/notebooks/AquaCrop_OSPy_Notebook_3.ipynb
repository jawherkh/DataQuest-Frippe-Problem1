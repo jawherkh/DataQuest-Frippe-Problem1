{
  "cells": [
    {
      "cell_type": "markdown",
      "metadata": {
        "id": "F46q9WuSNxCZ"
      },
      "source": [
        "# AquaCrop-OSPy: Bridging the gap between research and practice in crop-water modelling\n"
      ]
    },
    {
      "cell_type": "markdown",
      "metadata": {
        "id": "qrRbaHsji3A-"
      },
      "source": [
        "This series of notebooks provides users with an introduction to AquaCrop-OSPy, an open-source Python implementation of the U.N. Food and Agriculture Organization (FAO) AquaCrop model. AquaCrop-OSPy is accompanied by a series of Jupyter notebooks, which guide users interactively through a range of common applications of the model. Only basic Python experience is required, and the notebooks can easily be extended and adapted by users for their own applications and needs."
      ]
    },
    {
      "cell_type": "markdown",
      "metadata": {
        "id": "06mipdLvNxDM"
      },
      "source": [
        "# Notebook 3: Developing and optimizing irrigation stratgeies"
      ]
    },
    {
      "cell_type": "markdown",
      "metadata": {
        "id": "UtTYfAETdnap"
      },
      "source": [
        "In the previous notebook, we looked at how to simulate yields and water use for different pre-specified irrigation management practices or rules. However, what if you wanted to know which strategy would give you the maximum yield for a given amount of irrigation water use? In this notebook, we look at how optimal irrigation schedules can be identified by linking AquaCrop-OSPy with one of the many optimization modules in available in the python ecosystem.\n",
        "\n",
        "Our specific example focuses on optimizing soil-moisture thresholds which are commonly used both in practice and literature on optimizing irrigation decisions. During the growing season, if the soil-moisture content drops below the threshold, irrigation is applied to refill the soil profile back to field capacity subject to a maximum irrigation depth. AquaCrop-OSPy allows you to define four thresholds corresponding to four main growing periods (emergence, canopy growth, max canopy and senescence). Changing the threshold depending on crop growth stage reflects the fact that crop water requirements and drought stress responses vary over the course of the season.\n",
        "\n",
        "Using the optimization library `scipy.optimize` we will find sets of soil-moisture thresholds that maximize yields for a Maize crop located in Champion Nebraska. The optimization will be repeated for different water supply constraints (maximum amount of water that can be applied in a given season). The simulation will take place over 3 years (2016-2018)."
      ]
    },
    {
      "cell_type": "markdown",
      "metadata": {
        "id": "wRrE1XpNEDzd"
      },
      "source": [
        "Import and install AquaCrop-OSPy"
      ]
    },
    {
      "cell_type": "code",
      "execution_count": 1,
      "metadata": {
        "id": "YeE-XYevED-d",
        "tags": [],
        "outputId": "1e4577b1-8ed0-4100-e47d-d9014b5bfb70",
        "colab": {
          "base_uri": "https://localhost:8080/"
        }
      },
      "outputs": [
        {
          "output_type": "stream",
          "name": "stdout",
          "text": [
            "Collecting aquacrop\n",
            "  Downloading aquacrop-3.0.11-py3-none-any.whl.metadata (6.3 kB)\n",
            "Requirement already satisfied: numpy>=1.22.0 in /usr/local/lib/python3.11/dist-packages (from aquacrop) (1.26.4)\n",
            "Requirement already satisfied: pandas>=2.0.0 in /usr/local/lib/python3.11/dist-packages (from aquacrop) (2.2.2)\n",
            "Requirement already satisfied: tqdm>=4.65.0 in /usr/local/lib/python3.11/dist-packages (from aquacrop) (4.67.1)\n",
            "Requirement already satisfied: matplotlib>=1.2.0 in /usr/local/lib/python3.11/dist-packages (from aquacrop) (3.10.0)\n",
            "Requirement already satisfied: seaborn>=0.13.0 in /usr/local/lib/python3.11/dist-packages (from aquacrop) (0.13.2)\n",
            "Requirement already satisfied: contourpy>=1.0.1 in /usr/local/lib/python3.11/dist-packages (from matplotlib>=1.2.0->aquacrop) (1.3.1)\n",
            "Requirement already satisfied: cycler>=0.10 in /usr/local/lib/python3.11/dist-packages (from matplotlib>=1.2.0->aquacrop) (0.12.1)\n",
            "Requirement already satisfied: fonttools>=4.22.0 in /usr/local/lib/python3.11/dist-packages (from matplotlib>=1.2.0->aquacrop) (4.56.0)\n",
            "Requirement already satisfied: kiwisolver>=1.3.1 in /usr/local/lib/python3.11/dist-packages (from matplotlib>=1.2.0->aquacrop) (1.4.8)\n",
            "Requirement already satisfied: packaging>=20.0 in /usr/local/lib/python3.11/dist-packages (from matplotlib>=1.2.0->aquacrop) (24.2)\n",
            "Requirement already satisfied: pillow>=8 in /usr/local/lib/python3.11/dist-packages (from matplotlib>=1.2.0->aquacrop) (11.1.0)\n",
            "Requirement already satisfied: pyparsing>=2.3.1 in /usr/local/lib/python3.11/dist-packages (from matplotlib>=1.2.0->aquacrop) (3.2.1)\n",
            "Requirement already satisfied: python-dateutil>=2.7 in /usr/local/lib/python3.11/dist-packages (from matplotlib>=1.2.0->aquacrop) (2.8.2)\n",
            "Requirement already satisfied: pytz>=2020.1 in /usr/local/lib/python3.11/dist-packages (from pandas>=2.0.0->aquacrop) (2025.1)\n",
            "Requirement already satisfied: tzdata>=2022.7 in /usr/local/lib/python3.11/dist-packages (from pandas>=2.0.0->aquacrop) (2025.1)\n",
            "Requirement already satisfied: six>=1.5 in /usr/local/lib/python3.11/dist-packages (from python-dateutil>=2.7->matplotlib>=1.2.0->aquacrop) (1.17.0)\n",
            "Downloading aquacrop-3.0.11-py3-none-any.whl (10.7 MB)\n",
            "\u001b[2K   \u001b[90m━━━━━━━━━━━━━━━━━━━━━━━━━━━━━━━━━━━━━━━━\u001b[0m \u001b[32m10.7/10.7 MB\u001b[0m \u001b[31m1.7 MB/s\u001b[0m eta \u001b[36m0:00:00\u001b[0m\n",
            "\u001b[?25hInstalling collected packages: aquacrop\n",
            "Successfully installed aquacrop-3.0.11\n"
          ]
        }
      ],
      "source": [
        "!pip install aquacrop\n",
        "\n",
        "# from google.colab import output\n",
        "# output.clear()"
      ]
    },
    {
      "cell_type": "markdown",
      "metadata": {
        "id": "r25m70kfZ5Tu"
      },
      "source": [
        "If for any reason you would rather not compile the aquacrop modules ahead-of-time, you can run the following cell to run the notebook in pure python (N.B. it will run slower)."
      ]
    },
    {
      "cell_type": "code",
      "execution_count": null,
      "metadata": {
        "id": "7QazEG43Z5Tu"
      },
      "outputs": [],
      "source": [
        "# import os\n",
        "# os.environ['DEVELOPMENT'] = 'True'"
      ]
    },
    {
      "cell_type": "code",
      "execution_count": 2,
      "metadata": {
        "id": "avKuMkpBZ5Tv"
      },
      "outputs": [],
      "source": [
        "from aquacrop import AquaCropModel, Soil, Crop, InitialWaterContent, IrrigationManagement\n",
        "from aquacrop.utils import prepare_weather, get_filepath\n",
        "\n",
        "import numpy as np\n",
        "import matplotlib.pyplot as plt\n",
        "from scipy.optimize import fmin"
      ]
    },
    {
      "cell_type": "code",
      "execution_count": 3,
      "metadata": {
        "id": "pTbK0IL2FTX0"
      },
      "outputs": [],
      "source": [
        "path = get_filepath('champion_climate.txt')\n",
        "wdf = prepare_weather(path)"
      ]
    },
    {
      "cell_type": "markdown",
      "metadata": {
        "id": "SEHCszsGOs0V"
      },
      "source": [
        "Define a function called `run_model` that creates and runs an AquaCrop model (just like in the previous notebooks), and returns the final output."
      ]
    },
    {
      "cell_type": "code",
      "execution_count": 4,
      "metadata": {
        "id": "4iZrXVK31BHQ"
      },
      "outputs": [],
      "source": [
        "def run_model(smts,max_irr_season,year1,year2):\n",
        "    \"\"\"\n",
        "    funciton to run model and return results for given set of soil moisture targets\n",
        "    \"\"\"\n",
        "\n",
        "    maize = Crop('Maize',planting_date='05/01') # define crop\n",
        "    loam = Soil('ClayLoam') # define soil\n",
        "    init_wc = InitialWaterContent(wc_type='Pct',value=[70]) # define initial soil water conditions\n",
        "\n",
        "    irrmngt = IrrigationManagement(irrigation_method=1,SMT=smts,MaxIrrSeason=max_irr_season) # define irrigation management\n",
        "\n",
        "    # create and run model\n",
        "    model = AquaCropModel(f'{year1}/05/01',f'{year2}/10/31',wdf,loam,maize,\n",
        "                          irrigation_management=irrmngt,initial_water_content=init_wc)\n",
        "\n",
        "    model.run_model(till_termination=True)\n",
        "    return model.get_simulation_results()\n"
      ]
    },
    {
      "cell_type": "code",
      "execution_count": 5,
      "metadata": {
        "colab": {
          "base_uri": "https://localhost:8080/",
          "height": 98
        },
        "id": "IvQmxGZjFEX0",
        "outputId": "e6c6e5e3-07f5-415b-d0c8-b38c76eb1ce8"
      },
      "outputs": [
        {
          "output_type": "execute_result",
          "data": {
            "text/plain": [
              "   Season crop Type Harvest Date (YYYY/MM/DD)  Harvest Date (Step)  \\\n",
              "0       0     Maize                2018-09-10                  131   \n",
              "\n",
              "   Dry yield (tonne/ha)  Fresh yield (tonne/ha)  Yield potential (tonne/ha)  \\\n",
              "0             14.331249                15.92361                   14.372794   \n",
              "\n",
              "   Seasonal irrigation (mm)  \n",
              "0                     300.0  "
            ],
            "text/html": [
              "\n",
              "  <div id=\"df-3a37ad94-3e84-459f-8db4-f0e2e945ac54\" class=\"colab-df-container\">\n",
              "    <div>\n",
              "<style scoped>\n",
              "    .dataframe tbody tr th:only-of-type {\n",
              "        vertical-align: middle;\n",
              "    }\n",
              "\n",
              "    .dataframe tbody tr th {\n",
              "        vertical-align: top;\n",
              "    }\n",
              "\n",
              "    .dataframe thead th {\n",
              "        text-align: right;\n",
              "    }\n",
              "</style>\n",
              "<table border=\"1\" class=\"dataframe\">\n",
              "  <thead>\n",
              "    <tr style=\"text-align: right;\">\n",
              "      <th></th>\n",
              "      <th>Season</th>\n",
              "      <th>crop Type</th>\n",
              "      <th>Harvest Date (YYYY/MM/DD)</th>\n",
              "      <th>Harvest Date (Step)</th>\n",
              "      <th>Dry yield (tonne/ha)</th>\n",
              "      <th>Fresh yield (tonne/ha)</th>\n",
              "      <th>Yield potential (tonne/ha)</th>\n",
              "      <th>Seasonal irrigation (mm)</th>\n",
              "    </tr>\n",
              "  </thead>\n",
              "  <tbody>\n",
              "    <tr>\n",
              "      <th>0</th>\n",
              "      <td>0</td>\n",
              "      <td>Maize</td>\n",
              "      <td>2018-09-10</td>\n",
              "      <td>131</td>\n",
              "      <td>14.331249</td>\n",
              "      <td>15.92361</td>\n",
              "      <td>14.372794</td>\n",
              "      <td>300.0</td>\n",
              "    </tr>\n",
              "  </tbody>\n",
              "</table>\n",
              "</div>\n",
              "    <div class=\"colab-df-buttons\">\n",
              "\n",
              "  <div class=\"colab-df-container\">\n",
              "    <button class=\"colab-df-convert\" onclick=\"convertToInteractive('df-3a37ad94-3e84-459f-8db4-f0e2e945ac54')\"\n",
              "            title=\"Convert this dataframe to an interactive table.\"\n",
              "            style=\"display:none;\">\n",
              "\n",
              "  <svg xmlns=\"http://www.w3.org/2000/svg\" height=\"24px\" viewBox=\"0 -960 960 960\">\n",
              "    <path d=\"M120-120v-720h720v720H120Zm60-500h600v-160H180v160Zm220 220h160v-160H400v160Zm0 220h160v-160H400v160ZM180-400h160v-160H180v160Zm440 0h160v-160H620v160ZM180-180h160v-160H180v160Zm440 0h160v-160H620v160Z\"/>\n",
              "  </svg>\n",
              "    </button>\n",
              "\n",
              "  <style>\n",
              "    .colab-df-container {\n",
              "      display:flex;\n",
              "      gap: 12px;\n",
              "    }\n",
              "\n",
              "    .colab-df-convert {\n",
              "      background-color: #E8F0FE;\n",
              "      border: none;\n",
              "      border-radius: 50%;\n",
              "      cursor: pointer;\n",
              "      display: none;\n",
              "      fill: #1967D2;\n",
              "      height: 32px;\n",
              "      padding: 0 0 0 0;\n",
              "      width: 32px;\n",
              "    }\n",
              "\n",
              "    .colab-df-convert:hover {\n",
              "      background-color: #E2EBFA;\n",
              "      box-shadow: 0px 1px 2px rgba(60, 64, 67, 0.3), 0px 1px 3px 1px rgba(60, 64, 67, 0.15);\n",
              "      fill: #174EA6;\n",
              "    }\n",
              "\n",
              "    .colab-df-buttons div {\n",
              "      margin-bottom: 4px;\n",
              "    }\n",
              "\n",
              "    [theme=dark] .colab-df-convert {\n",
              "      background-color: #3B4455;\n",
              "      fill: #D2E3FC;\n",
              "    }\n",
              "\n",
              "    [theme=dark] .colab-df-convert:hover {\n",
              "      background-color: #434B5C;\n",
              "      box-shadow: 0px 1px 3px 1px rgba(0, 0, 0, 0.15);\n",
              "      filter: drop-shadow(0px 1px 2px rgba(0, 0, 0, 0.3));\n",
              "      fill: #FFFFFF;\n",
              "    }\n",
              "  </style>\n",
              "\n",
              "    <script>\n",
              "      const buttonEl =\n",
              "        document.querySelector('#df-3a37ad94-3e84-459f-8db4-f0e2e945ac54 button.colab-df-convert');\n",
              "      buttonEl.style.display =\n",
              "        google.colab.kernel.accessAllowed ? 'block' : 'none';\n",
              "\n",
              "      async function convertToInteractive(key) {\n",
              "        const element = document.querySelector('#df-3a37ad94-3e84-459f-8db4-f0e2e945ac54');\n",
              "        const dataTable =\n",
              "          await google.colab.kernel.invokeFunction('convertToInteractive',\n",
              "                                                    [key], {});\n",
              "        if (!dataTable) return;\n",
              "\n",
              "        const docLinkHtml = 'Like what you see? Visit the ' +\n",
              "          '<a target=\"_blank\" href=https://colab.research.google.com/notebooks/data_table.ipynb>data table notebook</a>'\n",
              "          + ' to learn more about interactive tables.';\n",
              "        element.innerHTML = '';\n",
              "        dataTable['output_type'] = 'display_data';\n",
              "        await google.colab.output.renderOutput(dataTable, element);\n",
              "        const docLink = document.createElement('div');\n",
              "        docLink.innerHTML = docLinkHtml;\n",
              "        element.appendChild(docLink);\n",
              "      }\n",
              "    </script>\n",
              "  </div>\n",
              "\n",
              "\n",
              "    </div>\n",
              "  </div>\n"
            ],
            "application/vnd.google.colaboratory.intrinsic+json": {
              "type": "dataframe",
              "summary": "{\n  \"name\": \"run_model([70]*4,300,2018,2018)\",\n  \"rows\": 1,\n  \"fields\": [\n    {\n      \"column\": \"Season\",\n      \"properties\": {\n        \"dtype\": \"number\",\n        \"std\": null,\n        \"min\": 0,\n        \"max\": 0,\n        \"num_unique_values\": 1,\n        \"samples\": [\n          0\n        ],\n        \"semantic_type\": \"\",\n        \"description\": \"\"\n      }\n    },\n    {\n      \"column\": \"crop Type\",\n      \"properties\": {\n        \"dtype\": \"string\",\n        \"num_unique_values\": 1,\n        \"samples\": [\n          \"Maize\"\n        ],\n        \"semantic_type\": \"\",\n        \"description\": \"\"\n      }\n    },\n    {\n      \"column\": \"Harvest Date (YYYY/MM/DD)\",\n      \"properties\": {\n        \"dtype\": \"date\",\n        \"min\": \"2018-09-10 00:00:00\",\n        \"max\": \"2018-09-10 00:00:00\",\n        \"num_unique_values\": 1,\n        \"samples\": [\n          \"2018-09-10 00:00:00\"\n        ],\n        \"semantic_type\": \"\",\n        \"description\": \"\"\n      }\n    },\n    {\n      \"column\": \"Harvest Date (Step)\",\n      \"properties\": {\n        \"dtype\": \"number\",\n        \"std\": null,\n        \"min\": 131,\n        \"max\": 131,\n        \"num_unique_values\": 1,\n        \"samples\": [\n          131\n        ],\n        \"semantic_type\": \"\",\n        \"description\": \"\"\n      }\n    },\n    {\n      \"column\": \"Dry yield (tonne/ha)\",\n      \"properties\": {\n        \"dtype\": \"number\",\n        \"std\": null,\n        \"min\": 14.331249154981833,\n        \"max\": 14.331249154981833,\n        \"num_unique_values\": 1,\n        \"samples\": [\n          14.331249154981833\n        ],\n        \"semantic_type\": \"\",\n        \"description\": \"\"\n      }\n    },\n    {\n      \"column\": \"Fresh yield (tonne/ha)\",\n      \"properties\": {\n        \"dtype\": \"number\",\n        \"std\": null,\n        \"min\": 15.923610172202036,\n        \"max\": 15.923610172202036,\n        \"num_unique_values\": 1,\n        \"samples\": [\n          15.923610172202036\n        ],\n        \"semantic_type\": \"\",\n        \"description\": \"\"\n      }\n    },\n    {\n      \"column\": \"Yield potential (tonne/ha)\",\n      \"properties\": {\n        \"dtype\": \"number\",\n        \"std\": null,\n        \"min\": 14.372794455879676,\n        \"max\": 14.372794455879676,\n        \"num_unique_values\": 1,\n        \"samples\": [\n          14.372794455879676\n        ],\n        \"semantic_type\": \"\",\n        \"description\": \"\"\n      }\n    },\n    {\n      \"column\": \"Seasonal irrigation (mm)\",\n      \"properties\": {\n        \"dtype\": \"number\",\n        \"std\": null,\n        \"min\": 300.0,\n        \"max\": 300.0,\n        \"num_unique_values\": 1,\n        \"samples\": [\n          300.0\n        ],\n        \"semantic_type\": \"\",\n        \"description\": \"\"\n      }\n    }\n  ]\n}"
            }
          },
          "metadata": {},
          "execution_count": 5
        }
      ],
      "source": [
        "run_model([70]*4,300,2018,2018)"
      ]
    },
    {
      "cell_type": "markdown",
      "metadata": {
        "id": "cJRQ_AK71BlK"
      },
      "source": [
        "Define `evaluate` will act as a reward function for the optimization library to optimize. Inside this function we run the model and return the reward (in this case the average yield).\n"
      ]
    },
    {
      "cell_type": "code",
      "execution_count": 8,
      "metadata": {
        "id": "jqDhsQX81Bvx"
      },
      "outputs": [],
      "source": [
        "import numpy as np # import numpy library\n",
        "\n",
        "def evaluate(smts,max_irr_season,test=False):\n",
        "    \"\"\"\n",
        "    funciton to run model and calculate reward (yield) for given set of soil moisture targets\n",
        "    \"\"\"\n",
        "    # run model\n",
        "    out = run_model(smts,max_irr_season,year1=2016,year2=2018)\n",
        "    # get yields and total irrigation\n",
        "    yld = out['Yield potential (tonne/ha)'].mean()\n",
        "    tirr = out['Seasonal irrigation (mm)'].mean()\n",
        "\n",
        "    reward=yld\n",
        "\n",
        "    # return either the negative reward (for the optimization)\n",
        "    # or the yield and total irrigation (for analysis)\n",
        "    if test:\n",
        "        return yld,tirr,reward\n",
        "    else:\n",
        "        return -reward\n"
      ]
    },
    {
      "cell_type": "code",
      "execution_count": 9,
      "metadata": {
        "colab": {
          "base_uri": "https://localhost:8080/"
        },
        "id": "qjd3YYIEnbCQ",
        "outputId": "2e99a48e-57e4-450b-e0a0-1bac9a1957bd"
      },
      "outputs": [
        {
          "output_type": "execute_result",
          "data": {
            "text/plain": [
              "-14.34107144293021"
            ]
          },
          "metadata": {},
          "execution_count": 9
        }
      ],
      "source": [
        "evaluate([70]*4,300)"
      ]
    },
    {
      "cell_type": "markdown",
      "metadata": {
        "id": "5MHlW3OU1B5Y"
      },
      "source": [
        "Define `get_starting_point` that chooses a set of random irrigation strategies and evaluates them to give us a good starting point for our optimization. (Since we are only using a local minimization function this will help get a good result)"
      ]
    },
    {
      "cell_type": "code",
      "execution_count": 10,
      "metadata": {
        "id": "2vmaxOt51CCJ"
      },
      "outputs": [],
      "source": [
        "def get_starting_point(num_smts,max_irr_season,num_searches):\n",
        "    \"\"\"\n",
        "    find good starting threshold(s) for optimization\n",
        "    \"\"\"\n",
        "\n",
        "    # get random SMT's\n",
        "    x0list = np.random.rand(num_searches,num_smts)*100\n",
        "    rlist=[]\n",
        "    # evaluate random SMT's\n",
        "    for xtest in x0list:\n",
        "        r = evaluate(xtest,max_irr_season,)\n",
        "        rlist.append(r)\n",
        "\n",
        "    # save best SMT\n",
        "    x0=x0list[np.argmin(rlist)]\n",
        "\n",
        "    return x0"
      ]
    },
    {
      "cell_type": "code",
      "execution_count": 11,
      "metadata": {
        "colab": {
          "base_uri": "https://localhost:8080/"
        },
        "id": "5n0uXS69oSht",
        "outputId": "61bec682-1a59-404c-c28b-9ad78fef9553"
      },
      "outputs": [
        {
          "output_type": "execute_result",
          "data": {
            "text/plain": [
              "array([82.85392385, 86.86081439, 44.3486836 , 44.68291508])"
            ]
          },
          "metadata": {},
          "execution_count": 11
        }
      ],
      "source": [
        "get_starting_point(4,300,10)"
      ]
    },
    {
      "cell_type": "markdown",
      "metadata": {
        "id": "7jiBcJX21CLq"
      },
      "source": [
        "Define `optimize` that uses the `scipy.optimize.fmin` optimization package to find yield maximizing irrigation strategies for a maximum seasonal irrigation limit.\n"
      ]
    },
    {
      "cell_type": "code",
      "execution_count": 12,
      "metadata": {
        "id": "-DWJXZky09hD"
      },
      "outputs": [],
      "source": [
        "def optimize(num_smts,max_irr_season,num_searches=100):\n",
        "    \"\"\"\n",
        "    optimize thresholds to be profit maximising\n",
        "    \"\"\"\n",
        "    # get starting optimization strategy\n",
        "    x0=get_starting_point(num_smts,max_irr_season,num_searches)\n",
        "    # run optimization\n",
        "    res = fmin(evaluate, x0,disp=0,args=(max_irr_season,))\n",
        "    # reshape array\n",
        "    smts= res.squeeze()\n",
        "    # evaluate optimal strategy\n",
        "    return smts"
      ]
    },
    {
      "cell_type": "code",
      "execution_count": 13,
      "metadata": {
        "id": "BJzmQJRiJgBi"
      },
      "outputs": [],
      "source": [
        "smts=optimize(4,300)"
      ]
    },
    {
      "cell_type": "code",
      "execution_count": 14,
      "metadata": {
        "colab": {
          "base_uri": "https://localhost:8080/"
        },
        "id": "lqO0byzyMdzs",
        "outputId": "ed937ff1-864c-41b6-efaf-e3402716f2e3"
      },
      "outputs": [
        {
          "output_type": "execute_result",
          "data": {
            "text/plain": [
              "(14.350861450452763, 296.96030613414626, 14.350861450452763)"
            ]
          },
          "metadata": {},
          "execution_count": 14
        }
      ],
      "source": [
        "evaluate(smts,300,True)"
      ]
    },
    {
      "cell_type": "markdown",
      "metadata": {
        "id": "iv43bK1rPSPj"
      },
      "source": [
        "For a range of maximum seasonal irrigation limits (0-450mm), find the yield maximizing irrigation schedule."
      ]
    },
    {
      "cell_type": "code",
      "execution_count": 15,
      "metadata": {
        "colab": {
          "base_uri": "https://localhost:8080/",
          "height": 105,
          "referenced_widgets": [
            "fe30bffcf6fe4fd09ebeb4416748bcd2",
            "738dc517337747f4ac4bfbad2e6e7276",
            "9259feb83fa1492ba00a1122fc18f6eb",
            "8d14fcdc7322412d81125b5ebd3ffebb",
            "e809db0c638845f48d1da8aae9d74ab0",
            "d250693e1ec04b69bd661bae36332d1c",
            "0e94100987e947439ed01e828256cc45",
            "d6c7ca7b681e4838ac77e3183c39efa1",
            "6a498c3ef84d4efcad9127bc441c8103",
            "e5a338072fdb461bb3dc1656572b4456",
            "7271c431d81e44c4a665b2529d72a395"
          ]
        },
        "id": "inrpfwj2NxDS",
        "outputId": "b676b871-c3e2-4199-e14a-3e038e76dae1"
      },
      "outputs": [
        {
          "output_type": "stream",
          "name": "stderr",
          "text": [
            "<ipython-input-15-264b5a75641e>:1: TqdmExperimentalWarning: Using `tqdm.autonotebook.tqdm` in notebook mode. Use `tqdm.tqdm` instead to force console mode (e.g. in jupyter console)\n",
            "  from tqdm.autonotebook import tqdm # progress bar\n"
          ]
        },
        {
          "output_type": "display_data",
          "data": {
            "text/plain": [
              "  0%|          | 0/10 [00:00<?, ?it/s]"
            ],
            "application/vnd.jupyter.widget-view+json": {
              "version_major": 2,
              "version_minor": 0,
              "model_id": "fe30bffcf6fe4fd09ebeb4416748bcd2"
            }
          },
          "metadata": {}
        }
      ],
      "source": [
        "from tqdm.autonotebook import tqdm # progress bar\n",
        "\n",
        "opt_smts=[]\n",
        "yld_list=[]\n",
        "tirr_list=[]\n",
        "for max_irr in tqdm(range(0,500,50)):\n",
        "\n",
        "\n",
        "    # find optimal thresholds and save to list\n",
        "    smts=optimize(4,max_irr)\n",
        "    opt_smts.append(smts)\n",
        "\n",
        "    # save the optimal yield and total irrigation\n",
        "    yld,tirr,_=evaluate(smts,max_irr,True)\n",
        "    yld_list.append(yld)\n",
        "    tirr_list.append(tirr)"
      ]
    },
    {
      "cell_type": "markdown",
      "metadata": {
        "id": "Lw0iPcZ6pSKl"
      },
      "source": [
        "Visualize the optimal yield and total irrigation, creating a crop-water production function."
      ]
    },
    {
      "cell_type": "code",
      "execution_count": 16,
      "metadata": {
        "colab": {
          "base_uri": "https://localhost:8080/",
          "height": 706
        },
        "id": "8uXbVnWGQDuI",
        "outputId": "810871e7-c666-4bf7-8a57-1dc4125bbd9e"
      },
      "outputs": [
        {
          "output_type": "display_data",
          "data": {
            "text/plain": [
              "<Figure size 1300x800 with 1 Axes>"
            ],
            "image/png": "[encoded data removed]"
          },
          "metadata": {}
        }
      ],
      "source": [
        "# create plot\n",
        "fig,ax=plt.subplots(1,1,figsize=(13,8))\n",
        "\n",
        "# plot results\n",
        "ax.scatter(tirr_list,yld_list)\n",
        "ax.plot(tirr_list,yld_list)\n",
        "\n",
        "# labels\n",
        "ax.set_xlabel('Total Irrigation (ha-mm)',fontsize=18)\n",
        "ax.set_ylabel('Yield (tonne/ha)',fontsize=18)\n",
        "ax.set_xlim([-20,600])\n",
        "ax.set_ylim([2,15.5])\n",
        "\n",
        "# annotate with optimal thresholds\n",
        "bbox = dict(boxstyle=\"round\",fc=\"1\")\n",
        "offset = [15,15,15, 15,15,-125,-100,  -5, 10,10]\n",
        "yoffset= [0,-5,-10,-15, -15,  0,  10,15, -20,10]\n",
        "for i,smt in enumerate(opt_smts):\n",
        "    smt=smt.clip(0,100)\n",
        "    ax.annotate('(%.0f, %.0f, %.0f, %.0f)'%(smt[0],smt[1],smt[2],smt[3]),\n",
        "                (tirr_list[i], yld_list[i]), xytext=(offset[i], yoffset[i]), textcoords='offset points',\n",
        "                bbox=bbox,fontsize=12)\n",
        "\n"
      ]
    },
    {
      "cell_type": "markdown",
      "metadata": {
        "id": "PSge4VgJycbo"
      },
      "source": [
        "Note that fmin is a local optimizer and so optimal soil-moisture thresholds will vary over multiple repetitions"
      ]
    },
    {
      "cell_type": "markdown",
      "metadata": {
        "id": "HnEU_KRsNzRF"
      },
      "source": [
        "# Appendix: Parrallel\n",
        "\n",
        "Can also speed things up with a parallel approach. Though for Colab notebooks there are only 2 CPUs so we are not expecting a massive speed up. But this kind of approach can be useful when more CPUs are available either locally or in cloud computing infestructure."
      ]
    },
    {
      "cell_type": "code",
      "execution_count": 17,
      "metadata": {
        "id": "FYCXPP0tRUUE"
      },
      "outputs": [],
      "source": [
        "# import multiprocessing library\n",
        "from multiprocessing import Pool\n",
        "\n",
        "# time library so we can check the speed up\n",
        "from time import time\n",
        "\n",
        "# define funciton to parallelize\n",
        "def func(max_irr):\n",
        "\n",
        "    # find optimal smts\n",
        "    smts=optimize(4,max_irr)\n",
        "\n",
        "    # return the optimal yield, total irrigaiton and thresholds\n",
        "    yld,tirr,_=evaluate(smts,max_irr,True)\n",
        "    print(f\"finished max_irr = {max_irr} at {round(time()-start)} seconds\")\n",
        "    return yld,tirr,smts\n"
      ]
    },
    {
      "cell_type": "markdown",
      "metadata": {
        "id": "v8DTCUkEqVtV"
      },
      "source": [
        "Multi processing in python can be done using the `Pool` object. The code below create a `Pool` object, passing in the number of CPU cores that you want to parallelize over. Then use `p.map` to evaluate the function `func` for each input given in the list."
      ]
    },
    {
      "cell_type": "code",
      "execution_count": null,
      "metadata": {
        "id": "IKoSrvxvqU5y"
      },
      "outputs": [],
      "source": [
        "start = time() # save start time\n",
        "with Pool(8) as p:\n",
        "    results = p.map(func, list(range(0,500,50)))"
      ]
    },
    {
      "cell_type": "markdown",
      "metadata": {
        "id": "YjfhsnSlX8jI"
      },
      "source": [
        "This approach in Colab does not give us a massive speed up, however this approach can be a big help if more CPU cores are available. Combine results for visualization."
      ]
    },
    {
      "cell_type": "code",
      "execution_count": null,
      "metadata": {
        "id": "vwmEZ8x7ULTu"
      },
      "outputs": [],
      "source": [
        "parr_opt_smts=[]\n",
        "parr_yld_list=[]\n",
        "parr_tirr_list=[]\n",
        "for i in range(len(results)):\n",
        "    parr_yld_list.append(results[i][0])\n",
        "    parr_tirr_list.append(results[i][1])\n",
        "    parr_opt_smts.append(results[i][2])"
      ]
    },
    {
      "cell_type": "markdown",
      "metadata": {
        "id": "EY5oJJiGsBkT"
      },
      "source": [
        "Plot crop-water production function."
      ]
    },
    {
      "cell_type": "code",
      "execution_count": null,
      "metadata": {
        "id": "tO3ec6bYUr98",
        "outputId": "cedf54bc-14c0-42d8-caee-fa4809ec144e"
      },
      "outputs": [
        {
          "data": {
            "text/plain": [
              "Text(0, 0.5, 'Yield (tonne/ha)')"
            ]
          },
          "execution_count": 18,
          "metadata": {},
          "output_type": "execute_result"
        },
        {
          "data": {
            "image/png": "[encoded data removed]",
            "text/plain": [
              "<Figure size 720x504 with 1 Axes>"
            ]
          },
          "metadata": {
            "needs_background": "light"
          },
          "output_type": "display_data"
        }
      ],
      "source": [
        "fig,ax=plt.subplots(1,1,figsize=(10,7))\n",
        "\n",
        "ax.scatter(parr_tirr_list,parr_yld_list)\n",
        "ax.plot(parr_tirr_list,parr_yld_list)\n",
        "\n",
        "ax.set_xlabel('Total Irrigation (ha-mm)')\n",
        "ax.set_ylabel('Yield (tonne/ha)',fontsize=18)"
      ]
    }
  ],
  "metadata": {
    "kernelspec": {
      "display_name": "aquacrop",
      "language": "python",
      "name": "python3"
    },
    "language_info": {
      "codemirror_mode": {
        "name": "ipython",
        "version": 3
      },
      "file_extension": ".py",
      "mimetype": "text/x-python",
      "name": "python",
      "nbconvert_exporter": "python",
      "pygments_lexer": "ipython3",
      "version": "3.9.17"
    },
    "orig_nbformat": 4,
    "colab": {
      "provenance": []
    },
    "widgets": {
      "application/vnd.jupyter.widget-state+json": {
        "fe30bffcf6fe4fd09ebeb4416748bcd2": {
          "model_module": "@jupyter-widgets/controls",
          "model_name": "HBoxModel",
          "model_module_version": "1.5.0",
          "state": {
            "_dom_classes": [],
            "_model_module": "@jupyter-widgets/controls",
            "_model_module_version": "1.5.0",
            "_model_name": "HBoxModel",
            "_view_count": null,
            "_view_module": "@jupyter-widgets/controls",
            "_view_module_version": "1.5.0",
            "_view_name": "HBoxView",
            "box_style": "",
            "children": [
              "IPY_MODEL_738dc517337747f4ac4bfbad2e6e7276",
              "IPY_MODEL_9259feb83fa1492ba00a1122fc18f6eb",
              "IPY_MODEL_8d14fcdc7322412d81125b5ebd3ffebb"
            ],
            "layout": "IPY_MODEL_e809db0c638845f48d1da8aae9d74ab0"
          }
        },
        "738dc517337747f4ac4bfbad2e6e7276": {
          "model_module": "@jupyter-widgets/controls",
          "model_name": "HTMLModel",
          "model_module_version": "1.5.0",
          "state": {
            "_dom_classes": [],
            "_model_module": "@jupyter-widgets/controls",
            "_model_module_version": "1.5.0",
            "_model_name": "HTMLModel",
            "_view_count": null,
            "_view_module": "@jupyter-widgets/controls",
            "_view_module_version": "1.5.0",
            "_view_name": "HTMLView",
            "description": "",
            "description_tooltip": null,
            "layout": "IPY_MODEL_d250693e1ec04b69bd661bae36332d1c",
            "placeholder": "​",
            "style": "IPY_MODEL_0e94100987e947439ed01e828256cc45",
            "value": "100%"
          }
        },
        "9259feb83fa1492ba00a1122fc18f6eb": {
          "model_module": "@jupyter-widgets/controls",
          "model_name": "FloatProgressModel",
          "model_module_version": "1.5.0",
          "state": {
            "_dom_classes": [],
            "_model_module": "@jupyter-widgets/controls",
            "_model_module_version": "1.5.0",
            "_model_name": "FloatProgressModel",
            "_view_count": null,
            "_view_module": "@jupyter-widgets/controls",
            "_view_module_version": "1.5.0",
            "_view_name": "ProgressView",
            "bar_style": "success",
            "description": "",
            "description_tooltip": null,
            "layout": "IPY_MODEL_d6c7ca7b681e4838ac77e3183c39efa1",
            "max": 10,
            "min": 0,
            "orientation": "horizontal",
            "style": "IPY_MODEL_6a498c3ef84d4efcad9127bc441c8103",
            "value": 10
          }
        },
        "8d14fcdc7322412d81125b5ebd3ffebb": {
          "model_module": "@jupyter-widgets/controls",
          "model_name": "HTMLModel",
          "model_module_version": "1.5.0",
          "state": {
            "_dom_classes": [],
            "_model_module": "@jupyter-widgets/controls",
            "_model_module_version": "1.5.0",
            "_model_name": "HTMLModel",
            "_view_count": null,
            "_view_module": "@jupyter-widgets/controls",
            "_view_module_version": "1.5.0",
            "_view_name": "HTMLView",
            "description": "",
            "description_tooltip": null,
            "layout": "IPY_MODEL_e5a338072fdb461bb3dc1656572b4456",
            "placeholder": "​",
            "style": "IPY_MODEL_7271c431d81e44c4a665b2529d72a395",
            "value": " 10/10 [42:25&lt;00:00, 259.28s/it]"
          }
        },
        "e809db0c638845f48d1da8aae9d74ab0": {
          "model_module": "@jupyter-widgets/base",
          "model_name": "LayoutModel",
          "model_module_version": "1.2.0",
          "state": {
            "_model_module": "@jupyter-widgets/base",
            "_model_module_version": "1.2.0",
            "_model_name": "LayoutModel",
            "_view_count": null,
            "_view_module": "@jupyter-widgets/base",
            "_view_module_version": "1.2.0",
            "_view_name": "LayoutView",
            "align_content": null,
            "align_items": null,
            "align_self": null,
            "border": null,
            "bottom": null,
            "display": null,
            "flex": null,
            "flex_flow": null,
            "grid_area": null,
            "grid_auto_columns": null,
            "grid_auto_flow": null,
            "grid_auto_rows": null,
            "grid_column": null,
            "grid_gap": null,
            "grid_row": null,
            "grid_template_areas": null,
            "grid_template_columns": null,
            "grid_template_rows": null,
            "height": null,
            "justify_content": null,
            "justify_items": null,
            "left": null,
            "margin": null,
            "max_height": null,
            "max_width": null,
            "min_height": null,
            "min_width": null,
            "object_fit": null,
            "object_position": null,
            "order": null,
            "overflow": null,
            "overflow_x": null,
            "overflow_y": null,
            "padding": null,
            "right": null,
            "top": null,
            "visibility": null,
            "width": null
          }
        },
        "d250693e1ec04b69bd661bae36332d1c": {
          "model_module": "@jupyter-widgets/base",
          "model_name": "LayoutModel",
          "model_module_version": "1.2.0",
          "state": {
            "_model_module": "@jupyter-widgets/base",
            "_model_module_version": "1.2.0",
            "_model_name": "LayoutModel",
            "_view_count": null,
            "_view_module": "@jupyter-widgets/base",
            "_view_module_version": "1.2.0",
            "_view_name": "LayoutView",
            "align_content": null,
            "align_items": null,
            "align_self": null,
            "border": null,
            "bottom": null,
            "display": null,
            "flex": null,
            "flex_flow": null,
            "grid_area": null,
            "grid_auto_columns": null,
            "grid_auto_flow": null,
            "grid_auto_rows": null,
            "grid_column": null,
            "grid_gap": null,
            "grid_row": null,
            "grid_template_areas": null,
            "grid_template_columns": null,
            "grid_template_rows": null,
            "height": null,
            "justify_content": null,
            "justify_items": null,
            "left": null,
            "margin": null,
            "max_height": null,
            "max_width": null,
            "min_height": null,
            "min_width": null,
            "object_fit": null,
            "object_position": null,
            "order": null,
            "overflow": null,
            "overflow_x": null,
            "overflow_y": null,
            "padding": null,
            "right": null,
            "top": null,
            "visibility": null,
            "width": null
          }
        },
        "0e94100987e947439ed01e828256cc45": {
          "model_module": "@jupyter-widgets/controls",
          "model_name": "DescriptionStyleModel",
          "model_module_version": "1.5.0",
          "state": {
            "_model_module": "@jupyter-widgets/controls",
            "_model_module_version": "1.5.0",
            "_model_name": "DescriptionStyleModel",
            "_view_count": null,
            "_view_module": "@jupyter-widgets/base",
            "_view_module_version": "1.2.0",
            "_view_name": "StyleView",
            "description_width": ""
          }
        },
        "d6c7ca7b681e4838ac77e3183c39efa1": {
          "model_module": "@jupyter-widgets/base",
          "model_name": "LayoutModel",
          "model_module_version": "1.2.0",
          "state": {
            "_model_module": "@jupyter-widgets/base",
            "_model_module_version": "1.2.0",
            "_model_name": "LayoutModel",
            "_view_count": null,
            "_view_module": "@jupyter-widgets/base",
            "_view_module_version": "1.2.0",
            "_view_name": "LayoutView",
            "align_content": null,
            "align_items": null,
            "align_self": null,
            "border": null,
            "bottom": null,
            "display": null,
            "flex": null,
            "flex_flow": null,
            "grid_area": null,
            "grid_auto_columns": null,
            "grid_auto_flow": null,
            "grid_auto_rows": null,
            "grid_column": null,
            "grid_gap": null,
            "grid_row": null,
            "grid_template_areas": null,
            "grid_template_columns": null,
            "grid_template_rows": null,
            "height": null,
            "justify_content": null,
            "justify_items": null,
            "left": null,
            "margin": null,
            "max_height": null,
            "max_width": null,
            "min_height": null,
            "min_width": null,
            "object_fit": null,
            "object_position": null,
            "order": null,
            "overflow": null,
            "overflow_x": null,
            "overflow_y": null,
            "padding": null,
            "right": null,
            "top": null,
            "visibility": null,
            "width": null
          }
        },
        "6a498c3ef84d4efcad9127bc441c8103": {
          "model_module": "@jupyter-widgets/controls",
          "model_name": "ProgressStyleModel",
          "model_module_version": "1.5.0",
          "state": {
            "_model_module": "@jupyter-widgets/controls",
            "_model_module_version": "1.5.0",
            "_model_name": "ProgressStyleModel",
            "_view_count": null,
            "_view_module": "@jupyter-widgets/base",
            "_view_module_version": "1.2.0",
            "_view_name": "StyleView",
            "bar_color": null,
            "description_width": ""
          }
        },
        "e5a338072fdb461bb3dc1656572b4456": {
          "model_module": "@jupyter-widgets/base",
          "model_name": "LayoutModel",
          "model_module_version": "1.2.0",
          "state": {
            "_model_module": "@jupyter-widgets/base",
            "_model_module_version": "1.2.0",
            "_model_name": "LayoutModel",
            "_view_count": null,
            "_view_module": "@jupyter-widgets/base",
            "_view_module_version": "1.2.0",
            "_view_name": "LayoutView",
            "align_content": null,
            "align_items": null,
            "align_self": null,
            "border": null,
            "bottom": null,
            "display": null,
            "flex": null,
            "flex_flow": null,
            "grid_area": null,
            "grid_auto_columns": null,
            "grid_auto_flow": null,
            "grid_auto_rows": null,
            "grid_column": null,
            "grid_gap": null,
            "grid_row": null,
            "grid_template_areas": null,
            "grid_template_columns": null,
            "grid_template_rows": null,
            "height": null,
            "justify_content": null,
            "justify_items": null,
            "left": null,
            "margin": null,
            "max_height": null,
            "max_width": null,
            "min_height": null,
            "min_width": null,
            "object_fit": null,
            "object_position": null,
            "order": null,
            "overflow": null,
            "overflow_x": null,
            "overflow_y": null,
            "padding": null,
            "right": null,
            "top": null,
            "visibility": null,
            "width": null
          }
        },
        "7271c431d81e44c4a665b2529d72a395": {
          "model_module": "@jupyter-widgets/controls",
          "model_name": "DescriptionStyleModel",
          "model_module_version": "1.5.0",
          "state": {
            "_model_module": "@jupyter-widgets/controls",
            "_model_module_version": "1.5.0",
            "_model_name": "DescriptionStyleModel",
            "_view_count": null,
            "_view_module": "@jupyter-widgets/base",
            "_view_module_version": "1.2.0",
            "_view_name": "StyleView",
            "description_width": ""
          }
        }
      }
    }
  },
  "nbformat": 4,
  "nbformat_minor": 0
}